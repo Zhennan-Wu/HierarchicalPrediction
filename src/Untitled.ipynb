{
 "cells": [
  {
   "cell_type": "code",
   "execution_count": null,
   "id": "3a67b196-c1e5-405a-93de-faab8f61edec",
   "metadata": {},
   "outputs": [],
   "source": [
    "import pandas as pd"
   ]
  },
  {
   "cell_type": "code",
   "execution_count": null,
   "id": "fd77ef6c-6679-460f-933a-00b71b600ec0",
   "metadata": {},
   "outputs": [],
   "source": [
    "# Cell line structure data frame, columns are cell lines, rows are gene mutations ordered by descending frequency\n",
    "mutation_df = pd.read_csv(\"../dataset/Cancer/binary_mutations.csv\")\n",
    "# Response data frame, columns have cell line name, drug name and auc score\n",
    "response_df = pd.read_csv(\"../dataset/Cancer/cell_drug_responses.csv\")\n",
    "# Drug structure data frame, columns are drug name, rows are morgan footprint entries\n",
    "morgan_footprints_df = pd.read_csv(\"../dataset/Cancer/morgan_footprints.csv\")"
   ]
  },
  {
   "cell_type": "code",
   "execution_count": null,
   "id": "5bdfe43f-0d7e-4768-8106-a4585f730f09",
   "metadata": {},
   "outputs": [],
   "source": [
    "import torch\n",
    "import time\n",
    "from typing import Any, Union, List, Tuple, Dict\n",
    "from torch.utils.data import DataLoader, TensorDataset\n",
    "# import matplotlib\n",
    "# matplotlib.use('TkAgg')\n",
    "import matplotlib.pyplot as plt\n",
    "import os\n",
    "import numpy as np\n",
    "from rbm import RBM\n",
    "from utils import visualize_rbm, visualize_data, project_points_to_simplex, CSVDrugResponseDataset\n",
    "\n",
    "from load_dataset import MNIST"
   ]
  },
  {
   "cell_type": "code",
   "execution_count": null,
   "id": "8b3866cd-7604-44d1-af3a-4fa72cb4f476",
   "metadata": {},
   "outputs": [],
   "source": []
  }
 ],
 "metadata": {
  "kernelspec": {
   "display_name": "Python (hdp)",
   "language": "python",
   "name": "hdp"
  },
  "language_info": {
   "codemirror_mode": {
    "name": "ipython",
    "version": 3
   },
   "file_extension": ".py",
   "mimetype": "text/x-python",
   "name": "python",
   "nbconvert_exporter": "python",
   "pygments_lexer": "ipython3",
   "version": "3.10.16"
  }
 },
 "nbformat": 4,
 "nbformat_minor": 5
}
